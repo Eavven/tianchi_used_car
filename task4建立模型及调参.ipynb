{
 "cells": [
  {
   "cell_type": "code",
   "execution_count": 1,
   "metadata": {},
   "outputs": [],
   "source": [
    "import matplotlib\n",
    "import pandas as pd\n",
    "import numpy as np\n",
    "import matplotlib.pyplot as plt\n",
    "import seaborn as sns\n",
    "pd.set_option('display.max_columns',None)\n",
    "pd.set_option('display.max_rows',35)\n",
    "import warnings\n",
    "warnings.filterwarnings(\"ignore\")"
   ]
  },
  {
   "cell_type": "code",
   "execution_count": 3,
   "metadata": {},
   "outputs": [],
   "source": [
    "train_path = r'D:\\nlp\\nlp_代码作业数据\\datawhale14天\\datawhale_tianchi-master\\raw_data\\train_null_filtered.csv'\n",
    "test_path = r'D:\\nlp\\nlp_代码作业数据\\datawhale14天\\datawhale_tianchi-master\\raw_data\\test_data.csv'"
   ]
  },
  {
   "cell_type": "code",
   "execution_count": 21,
   "metadata": {},
   "outputs": [],
   "source": [
    "train_data = pd.read_csv(train_path)\n",
    "test_data = pd.read_csv(test_path)"
   ]
  },
  {
   "cell_type": "code",
   "execution_count": 12,
   "metadata": {},
   "outputs": [
    {
     "data": {
      "text/html": [
       "<div>\n",
       "<style scoped>\n",
       "    .dataframe tbody tr th:only-of-type {\n",
       "        vertical-align: middle;\n",
       "    }\n",
       "\n",
       "    .dataframe tbody tr th {\n",
       "        vertical-align: top;\n",
       "    }\n",
       "\n",
       "    .dataframe thead th {\n",
       "        text-align: right;\n",
       "    }\n",
       "</style>\n",
       "<table border=\"1\" class=\"dataframe\">\n",
       "  <thead>\n",
       "    <tr style=\"text-align: right;\">\n",
       "      <th></th>\n",
       "      <th>Unnamed: 0</th>\n",
       "      <th>SaleID</th>\n",
       "      <th>name</th>\n",
       "      <th>regDate</th>\n",
       "      <th>model</th>\n",
       "      <th>brand</th>\n",
       "      <th>bodyType</th>\n",
       "      <th>fuelType</th>\n",
       "      <th>gearbox</th>\n",
       "      <th>power</th>\n",
       "      <th>kilometer</th>\n",
       "      <th>notRepairedDamage</th>\n",
       "      <th>regionCode</th>\n",
       "      <th>seller</th>\n",
       "      <th>offerType</th>\n",
       "      <th>creatDate</th>\n",
       "      <th>price</th>\n",
       "      <th>v_0</th>\n",
       "      <th>v_1</th>\n",
       "      <th>v_2</th>\n",
       "      <th>v_3</th>\n",
       "      <th>v_4</th>\n",
       "      <th>v_5</th>\n",
       "      <th>v_6</th>\n",
       "      <th>v_7</th>\n",
       "      <th>v_8</th>\n",
       "      <th>v_9</th>\n",
       "      <th>v_10</th>\n",
       "      <th>v_11</th>\n",
       "      <th>v_12</th>\n",
       "      <th>v_13</th>\n",
       "      <th>v_14</th>\n",
       "      <th>age</th>\n",
       "      <th>age_bin</th>\n",
       "      <th>price_brand_gp_median</th>\n",
       "      <th>price_brand_gp_mean</th>\n",
       "      <th>brand_gp_size</th>\n",
       "      <th>price_brand_gp_std</th>\n",
       "      <th>price_brand_gp_max</th>\n",
       "      <th>price_brand_gp_min</th>\n",
       "      <th>price_bodyType_gp_median</th>\n",
       "      <th>price_bodyType_gp_mean</th>\n",
       "      <th>bodyType_gp_size</th>\n",
       "      <th>price_bodyType_gp_std</th>\n",
       "      <th>price_bodyType_gp_max</th>\n",
       "      <th>price_bodyType_gp_min</th>\n",
       "    </tr>\n",
       "  </thead>\n",
       "  <tbody>\n",
       "    <tr>\n",
       "      <th>0</th>\n",
       "      <td>0</td>\n",
       "      <td>0</td>\n",
       "      <td>736</td>\n",
       "      <td>20040402</td>\n",
       "      <td>30.0</td>\n",
       "      <td>6</td>\n",
       "      <td>1.0</td>\n",
       "      <td>0.0</td>\n",
       "      <td>0.0</td>\n",
       "      <td>60.0</td>\n",
       "      <td>12.5</td>\n",
       "      <td>0.0</td>\n",
       "      <td>1046</td>\n",
       "      <td>0</td>\n",
       "      <td>0</td>\n",
       "      <td>20160404</td>\n",
       "      <td>1850</td>\n",
       "      <td>43.357796</td>\n",
       "      <td>3.966344</td>\n",
       "      <td>0.050257</td>\n",
       "      <td>2.159744</td>\n",
       "      <td>1.143786</td>\n",
       "      <td>0.235676</td>\n",
       "      <td>0.101988</td>\n",
       "      <td>0.129549</td>\n",
       "      <td>0.022816</td>\n",
       "      <td>0.097462</td>\n",
       "      <td>-2.881803</td>\n",
       "      <td>2.804097</td>\n",
       "      <td>-2.420821</td>\n",
       "      <td>0.795292</td>\n",
       "      <td>0.914762</td>\n",
       "      <td>12</td>\n",
       "      <td>2.0</td>\n",
       "      <td>1800.0</td>\n",
       "      <td>3607.928375</td>\n",
       "      <td>10206</td>\n",
       "      <td>4650.025544</td>\n",
       "      <td>40950</td>\n",
       "      <td>13</td>\n",
       "      <td>1600</td>\n",
       "      <td>2790.191765</td>\n",
       "      <td>35241</td>\n",
       "      <td>3159.663046</td>\n",
       "      <td>99999</td>\n",
       "      <td>12</td>\n",
       "    </tr>\n",
       "    <tr>\n",
       "      <th>1</th>\n",
       "      <td>1</td>\n",
       "      <td>1</td>\n",
       "      <td>2262</td>\n",
       "      <td>20030301</td>\n",
       "      <td>40.0</td>\n",
       "      <td>1</td>\n",
       "      <td>2.0</td>\n",
       "      <td>0.0</td>\n",
       "      <td>0.0</td>\n",
       "      <td>140.0</td>\n",
       "      <td>15.0</td>\n",
       "      <td>2.0</td>\n",
       "      <td>4366</td>\n",
       "      <td>0</td>\n",
       "      <td>0</td>\n",
       "      <td>20160309</td>\n",
       "      <td>3600</td>\n",
       "      <td>45.305273</td>\n",
       "      <td>5.236112</td>\n",
       "      <td>0.137925</td>\n",
       "      <td>1.380657</td>\n",
       "      <td>-1.422165</td>\n",
       "      <td>0.264777</td>\n",
       "      <td>0.121004</td>\n",
       "      <td>0.135731</td>\n",
       "      <td>0.026597</td>\n",
       "      <td>0.020582</td>\n",
       "      <td>-4.900482</td>\n",
       "      <td>2.096338</td>\n",
       "      <td>-1.030483</td>\n",
       "      <td>-1.722674</td>\n",
       "      <td>0.245522</td>\n",
       "      <td>13</td>\n",
       "      <td>2.0</td>\n",
       "      <td>6499.0</td>\n",
       "      <td>9272.585414</td>\n",
       "      <td>13780</td>\n",
       "      <td>9363.917624</td>\n",
       "      <td>99900</td>\n",
       "      <td>15</td>\n",
       "      <td>3500</td>\n",
       "      <td>5820.259655</td>\n",
       "      <td>30294</td>\n",
       "      <td>6320.798831</td>\n",
       "      <td>69900</td>\n",
       "      <td>15</td>\n",
       "    </tr>\n",
       "    <tr>\n",
       "      <th>2</th>\n",
       "      <td>2</td>\n",
       "      <td>2</td>\n",
       "      <td>14874</td>\n",
       "      <td>20040403</td>\n",
       "      <td>115.0</td>\n",
       "      <td>15</td>\n",
       "      <td>1.0</td>\n",
       "      <td>0.0</td>\n",
       "      <td>0.0</td>\n",
       "      <td>163.0</td>\n",
       "      <td>12.5</td>\n",
       "      <td>0.0</td>\n",
       "      <td>2806</td>\n",
       "      <td>0</td>\n",
       "      <td>0</td>\n",
       "      <td>20160402</td>\n",
       "      <td>6222</td>\n",
       "      <td>45.978359</td>\n",
       "      <td>4.823792</td>\n",
       "      <td>1.319524</td>\n",
       "      <td>-0.998467</td>\n",
       "      <td>-0.996911</td>\n",
       "      <td>0.251410</td>\n",
       "      <td>0.114912</td>\n",
       "      <td>0.165147</td>\n",
       "      <td>0.062173</td>\n",
       "      <td>0.027075</td>\n",
       "      <td>-4.846749</td>\n",
       "      <td>1.803559</td>\n",
       "      <td>1.565330</td>\n",
       "      <td>-0.832687</td>\n",
       "      <td>-0.229963</td>\n",
       "      <td>12</td>\n",
       "      <td>2.0</td>\n",
       "      <td>8500.0</td>\n",
       "      <td>9858.582990</td>\n",
       "      <td>1458</td>\n",
       "      <td>5425.058140</td>\n",
       "      <td>45000</td>\n",
       "      <td>100</td>\n",
       "      <td>1600</td>\n",
       "      <td>2790.191765</td>\n",
       "      <td>35241</td>\n",
       "      <td>3159.663046</td>\n",
       "      <td>99999</td>\n",
       "      <td>12</td>\n",
       "    </tr>\n",
       "    <tr>\n",
       "      <th>3</th>\n",
       "      <td>3</td>\n",
       "      <td>3</td>\n",
       "      <td>71865</td>\n",
       "      <td>19960908</td>\n",
       "      <td>109.0</td>\n",
       "      <td>10</td>\n",
       "      <td>0.0</td>\n",
       "      <td>0.0</td>\n",
       "      <td>1.0</td>\n",
       "      <td>193.0</td>\n",
       "      <td>15.0</td>\n",
       "      <td>0.0</td>\n",
       "      <td>434</td>\n",
       "      <td>0</td>\n",
       "      <td>0</td>\n",
       "      <td>20160312</td>\n",
       "      <td>2400</td>\n",
       "      <td>45.687478</td>\n",
       "      <td>4.492574</td>\n",
       "      <td>-0.050616</td>\n",
       "      <td>0.883600</td>\n",
       "      <td>-2.228079</td>\n",
       "      <td>0.274293</td>\n",
       "      <td>0.110300</td>\n",
       "      <td>0.121964</td>\n",
       "      <td>0.033395</td>\n",
       "      <td>0.000000</td>\n",
       "      <td>-4.509599</td>\n",
       "      <td>1.285940</td>\n",
       "      <td>-0.501868</td>\n",
       "      <td>-2.438353</td>\n",
       "      <td>-0.478699</td>\n",
       "      <td>20</td>\n",
       "      <td>4.0</td>\n",
       "      <td>5400.0</td>\n",
       "      <td>8449.322819</td>\n",
       "      <td>14234</td>\n",
       "      <td>8916.556379</td>\n",
       "      <td>98000</td>\n",
       "      <td>15</td>\n",
       "      <td>3480</td>\n",
       "      <td>6013.455822</td>\n",
       "      <td>41378</td>\n",
       "      <td>6978.419323</td>\n",
       "      <td>98000</td>\n",
       "      <td>13</td>\n",
       "    </tr>\n",
       "    <tr>\n",
       "      <th>4</th>\n",
       "      <td>4</td>\n",
       "      <td>4</td>\n",
       "      <td>111080</td>\n",
       "      <td>20120103</td>\n",
       "      <td>110.0</td>\n",
       "      <td>5</td>\n",
       "      <td>1.0</td>\n",
       "      <td>0.0</td>\n",
       "      <td>0.0</td>\n",
       "      <td>68.0</td>\n",
       "      <td>5.0</td>\n",
       "      <td>0.0</td>\n",
       "      <td>6977</td>\n",
       "      <td>0</td>\n",
       "      <td>0</td>\n",
       "      <td>20160313</td>\n",
       "      <td>5200</td>\n",
       "      <td>44.383511</td>\n",
       "      <td>2.031433</td>\n",
       "      <td>0.572169</td>\n",
       "      <td>-1.571239</td>\n",
       "      <td>2.246088</td>\n",
       "      <td>0.228036</td>\n",
       "      <td>0.073205</td>\n",
       "      <td>0.091880</td>\n",
       "      <td>0.078819</td>\n",
       "      <td>0.121534</td>\n",
       "      <td>-1.896240</td>\n",
       "      <td>0.910783</td>\n",
       "      <td>0.931110</td>\n",
       "      <td>2.834518</td>\n",
       "      <td>1.923482</td>\n",
       "      <td>4</td>\n",
       "      <td>0.0</td>\n",
       "      <td>2300.0</td>\n",
       "      <td>3306.375375</td>\n",
       "      <td>4662</td>\n",
       "      <td>3344.689763</td>\n",
       "      <td>31500</td>\n",
       "      <td>20</td>\n",
       "      <td>1600</td>\n",
       "      <td>2790.191765</td>\n",
       "      <td>35241</td>\n",
       "      <td>3159.663046</td>\n",
       "      <td>99999</td>\n",
       "      <td>12</td>\n",
       "    </tr>\n",
       "  </tbody>\n",
       "</table>\n",
       "</div>"
      ],
      "text/plain": [
       "   Unnamed: 0  SaleID    name   regDate  model  brand  bodyType  fuelType  \\\n",
       "0           0       0     736  20040402   30.0      6       1.0       0.0   \n",
       "1           1       1    2262  20030301   40.0      1       2.0       0.0   \n",
       "2           2       2   14874  20040403  115.0     15       1.0       0.0   \n",
       "3           3       3   71865  19960908  109.0     10       0.0       0.0   \n",
       "4           4       4  111080  20120103  110.0      5       1.0       0.0   \n",
       "\n",
       "   gearbox  power  kilometer  notRepairedDamage  regionCode  seller  \\\n",
       "0      0.0   60.0       12.5                0.0        1046       0   \n",
       "1      0.0  140.0       15.0                2.0        4366       0   \n",
       "2      0.0  163.0       12.5                0.0        2806       0   \n",
       "3      1.0  193.0       15.0                0.0         434       0   \n",
       "4      0.0   68.0        5.0                0.0        6977       0   \n",
       "\n",
       "   offerType  creatDate  price        v_0       v_1       v_2       v_3  \\\n",
       "0          0   20160404   1850  43.357796  3.966344  0.050257  2.159744   \n",
       "1          0   20160309   3600  45.305273  5.236112  0.137925  1.380657   \n",
       "2          0   20160402   6222  45.978359  4.823792  1.319524 -0.998467   \n",
       "3          0   20160312   2400  45.687478  4.492574 -0.050616  0.883600   \n",
       "4          0   20160313   5200  44.383511  2.031433  0.572169 -1.571239   \n",
       "\n",
       "        v_4       v_5       v_6       v_7       v_8       v_9      v_10  \\\n",
       "0  1.143786  0.235676  0.101988  0.129549  0.022816  0.097462 -2.881803   \n",
       "1 -1.422165  0.264777  0.121004  0.135731  0.026597  0.020582 -4.900482   \n",
       "2 -0.996911  0.251410  0.114912  0.165147  0.062173  0.027075 -4.846749   \n",
       "3 -2.228079  0.274293  0.110300  0.121964  0.033395  0.000000 -4.509599   \n",
       "4  2.246088  0.228036  0.073205  0.091880  0.078819  0.121534 -1.896240   \n",
       "\n",
       "       v_11      v_12      v_13      v_14  age  age_bin  \\\n",
       "0  2.804097 -2.420821  0.795292  0.914762   12      2.0   \n",
       "1  2.096338 -1.030483 -1.722674  0.245522   13      2.0   \n",
       "2  1.803559  1.565330 -0.832687 -0.229963   12      2.0   \n",
       "3  1.285940 -0.501868 -2.438353 -0.478699   20      4.0   \n",
       "4  0.910783  0.931110  2.834518  1.923482    4      0.0   \n",
       "\n",
       "   price_brand_gp_median  price_brand_gp_mean  brand_gp_size  \\\n",
       "0                 1800.0          3607.928375          10206   \n",
       "1                 6499.0          9272.585414          13780   \n",
       "2                 8500.0          9858.582990           1458   \n",
       "3                 5400.0          8449.322819          14234   \n",
       "4                 2300.0          3306.375375           4662   \n",
       "\n",
       "   price_brand_gp_std  price_brand_gp_max  price_brand_gp_min  \\\n",
       "0         4650.025544               40950                  13   \n",
       "1         9363.917624               99900                  15   \n",
       "2         5425.058140               45000                 100   \n",
       "3         8916.556379               98000                  15   \n",
       "4         3344.689763               31500                  20   \n",
       "\n",
       "   price_bodyType_gp_median  price_bodyType_gp_mean  bodyType_gp_size  \\\n",
       "0                      1600             2790.191765             35241   \n",
       "1                      3500             5820.259655             30294   \n",
       "2                      1600             2790.191765             35241   \n",
       "3                      3480             6013.455822             41378   \n",
       "4                      1600             2790.191765             35241   \n",
       "\n",
       "   price_bodyType_gp_std  price_bodyType_gp_max  price_bodyType_gp_min  \n",
       "0            3159.663046                  99999                     12  \n",
       "1            6320.798831                  69900                     15  \n",
       "2            3159.663046                  99999                     12  \n",
       "3            6978.419323                  98000                     13  \n",
       "4            3159.663046                  99999                     12  "
      ]
     },
     "execution_count": 12,
     "metadata": {},
     "output_type": "execute_result"
    }
   ],
   "source": [
    "train_data.head()"
   ]
  },
  {
   "cell_type": "code",
   "execution_count": 22,
   "metadata": {},
   "outputs": [
    {
     "data": {
      "text/html": [
       "<div>\n",
       "<style scoped>\n",
       "    .dataframe tbody tr th:only-of-type {\n",
       "        vertical-align: middle;\n",
       "    }\n",
       "\n",
       "    .dataframe tbody tr th {\n",
       "        vertical-align: top;\n",
       "    }\n",
       "\n",
       "    .dataframe thead th {\n",
       "        text-align: right;\n",
       "    }\n",
       "</style>\n",
       "<table border=\"1\" class=\"dataframe\">\n",
       "  <thead>\n",
       "    <tr style=\"text-align: right;\">\n",
       "      <th></th>\n",
       "      <th>Unnamed: 0</th>\n",
       "      <th>SaleID</th>\n",
       "      <th>name</th>\n",
       "      <th>regDate</th>\n",
       "      <th>model</th>\n",
       "      <th>brand</th>\n",
       "      <th>bodyType</th>\n",
       "      <th>fuelType</th>\n",
       "      <th>gearbox</th>\n",
       "      <th>power</th>\n",
       "      <th>kilometer</th>\n",
       "      <th>notRepairedDamage</th>\n",
       "      <th>regionCode</th>\n",
       "      <th>seller</th>\n",
       "      <th>offerType</th>\n",
       "      <th>creatDate</th>\n",
       "      <th>v_0</th>\n",
       "      <th>v_1</th>\n",
       "      <th>v_2</th>\n",
       "      <th>v_3</th>\n",
       "      <th>v_4</th>\n",
       "      <th>v_5</th>\n",
       "      <th>v_6</th>\n",
       "      <th>v_7</th>\n",
       "      <th>v_8</th>\n",
       "      <th>v_9</th>\n",
       "      <th>v_10</th>\n",
       "      <th>v_11</th>\n",
       "      <th>v_12</th>\n",
       "      <th>v_13</th>\n",
       "      <th>v_14</th>\n",
       "    </tr>\n",
       "  </thead>\n",
       "  <tbody>\n",
       "    <tr>\n",
       "      <th>0</th>\n",
       "      <td>0</td>\n",
       "      <td>150000</td>\n",
       "      <td>66932</td>\n",
       "      <td>20111212</td>\n",
       "      <td>222.0</td>\n",
       "      <td>4</td>\n",
       "      <td>5.0</td>\n",
       "      <td>1.0</td>\n",
       "      <td>1.0</td>\n",
       "      <td>313</td>\n",
       "      <td>15.0</td>\n",
       "      <td>0.0</td>\n",
       "      <td>1440</td>\n",
       "      <td>0</td>\n",
       "      <td>0</td>\n",
       "      <td>20160329</td>\n",
       "      <td>49.593127</td>\n",
       "      <td>5.246568</td>\n",
       "      <td>1.001130</td>\n",
       "      <td>-4.122264</td>\n",
       "      <td>0.737532</td>\n",
       "      <td>0.264405</td>\n",
       "      <td>0.121800</td>\n",
       "      <td>0.070899</td>\n",
       "      <td>0.106558</td>\n",
       "      <td>0.078867</td>\n",
       "      <td>-7.050969</td>\n",
       "      <td>-0.854626</td>\n",
       "      <td>4.800151</td>\n",
       "      <td>0.620011</td>\n",
       "      <td>-3.664654</td>\n",
       "    </tr>\n",
       "    <tr>\n",
       "      <th>1</th>\n",
       "      <td>1</td>\n",
       "      <td>150001</td>\n",
       "      <td>174960</td>\n",
       "      <td>19990211</td>\n",
       "      <td>19.0</td>\n",
       "      <td>21</td>\n",
       "      <td>0.0</td>\n",
       "      <td>0.0</td>\n",
       "      <td>0.0</td>\n",
       "      <td>75</td>\n",
       "      <td>12.5</td>\n",
       "      <td>1.0</td>\n",
       "      <td>5419</td>\n",
       "      <td>0</td>\n",
       "      <td>0</td>\n",
       "      <td>20160404</td>\n",
       "      <td>42.395926</td>\n",
       "      <td>-3.253950</td>\n",
       "      <td>-1.753754</td>\n",
       "      <td>3.646605</td>\n",
       "      <td>-0.725597</td>\n",
       "      <td>0.261745</td>\n",
       "      <td>0.000000</td>\n",
       "      <td>0.096733</td>\n",
       "      <td>0.013705</td>\n",
       "      <td>0.052383</td>\n",
       "      <td>3.679418</td>\n",
       "      <td>-0.729039</td>\n",
       "      <td>-3.796107</td>\n",
       "      <td>-1.541230</td>\n",
       "      <td>-0.757055</td>\n",
       "    </tr>\n",
       "    <tr>\n",
       "      <th>2</th>\n",
       "      <td>2</td>\n",
       "      <td>150002</td>\n",
       "      <td>5356</td>\n",
       "      <td>20090304</td>\n",
       "      <td>82.0</td>\n",
       "      <td>21</td>\n",
       "      <td>0.0</td>\n",
       "      <td>0.0</td>\n",
       "      <td>0.0</td>\n",
       "      <td>109</td>\n",
       "      <td>7.0</td>\n",
       "      <td>0.0</td>\n",
       "      <td>5045</td>\n",
       "      <td>0</td>\n",
       "      <td>0</td>\n",
       "      <td>20160308</td>\n",
       "      <td>45.841370</td>\n",
       "      <td>4.704178</td>\n",
       "      <td>0.155391</td>\n",
       "      <td>-1.118443</td>\n",
       "      <td>-0.229160</td>\n",
       "      <td>0.260216</td>\n",
       "      <td>0.112081</td>\n",
       "      <td>0.078082</td>\n",
       "      <td>0.062078</td>\n",
       "      <td>0.050540</td>\n",
       "      <td>-4.926690</td>\n",
       "      <td>1.001106</td>\n",
       "      <td>0.826562</td>\n",
       "      <td>0.138226</td>\n",
       "      <td>0.754033</td>\n",
       "    </tr>\n",
       "    <tr>\n",
       "      <th>3</th>\n",
       "      <td>3</td>\n",
       "      <td>150003</td>\n",
       "      <td>50688</td>\n",
       "      <td>20100405</td>\n",
       "      <td>0.0</td>\n",
       "      <td>0</td>\n",
       "      <td>0.0</td>\n",
       "      <td>0.0</td>\n",
       "      <td>1.0</td>\n",
       "      <td>160</td>\n",
       "      <td>7.0</td>\n",
       "      <td>0.0</td>\n",
       "      <td>4023</td>\n",
       "      <td>0</td>\n",
       "      <td>0</td>\n",
       "      <td>20160325</td>\n",
       "      <td>46.440649</td>\n",
       "      <td>4.319155</td>\n",
       "      <td>0.428897</td>\n",
       "      <td>-2.037916</td>\n",
       "      <td>-0.234757</td>\n",
       "      <td>0.260466</td>\n",
       "      <td>0.106727</td>\n",
       "      <td>0.081146</td>\n",
       "      <td>0.075971</td>\n",
       "      <td>0.048268</td>\n",
       "      <td>-4.864637</td>\n",
       "      <td>0.505493</td>\n",
       "      <td>1.870379</td>\n",
       "      <td>0.366038</td>\n",
       "      <td>1.312775</td>\n",
       "    </tr>\n",
       "    <tr>\n",
       "      <th>4</th>\n",
       "      <td>4</td>\n",
       "      <td>150004</td>\n",
       "      <td>161428</td>\n",
       "      <td>19970703</td>\n",
       "      <td>26.0</td>\n",
       "      <td>14</td>\n",
       "      <td>2.0</td>\n",
       "      <td>0.0</td>\n",
       "      <td>0.0</td>\n",
       "      <td>75</td>\n",
       "      <td>15.0</td>\n",
       "      <td>0.0</td>\n",
       "      <td>3103</td>\n",
       "      <td>0</td>\n",
       "      <td>0</td>\n",
       "      <td>20160309</td>\n",
       "      <td>42.184604</td>\n",
       "      <td>-3.166234</td>\n",
       "      <td>-1.572058</td>\n",
       "      <td>2.604143</td>\n",
       "      <td>0.387498</td>\n",
       "      <td>0.250999</td>\n",
       "      <td>0.000000</td>\n",
       "      <td>0.077806</td>\n",
       "      <td>0.028600</td>\n",
       "      <td>0.081709</td>\n",
       "      <td>3.616475</td>\n",
       "      <td>-0.673236</td>\n",
       "      <td>-3.197685</td>\n",
       "      <td>-0.025678</td>\n",
       "      <td>-0.101290</td>\n",
       "    </tr>\n",
       "  </tbody>\n",
       "</table>\n",
       "</div>"
      ],
      "text/plain": [
       "   Unnamed: 0  SaleID    name   regDate  model  brand  bodyType  fuelType  \\\n",
       "0           0  150000   66932  20111212  222.0      4       5.0       1.0   \n",
       "1           1  150001  174960  19990211   19.0     21       0.0       0.0   \n",
       "2           2  150002    5356  20090304   82.0     21       0.0       0.0   \n",
       "3           3  150003   50688  20100405    0.0      0       0.0       0.0   \n",
       "4           4  150004  161428  19970703   26.0     14       2.0       0.0   \n",
       "\n",
       "   gearbox  power  kilometer  notRepairedDamage  regionCode  seller  \\\n",
       "0      1.0    313       15.0                0.0        1440       0   \n",
       "1      0.0     75       12.5                1.0        5419       0   \n",
       "2      0.0    109        7.0                0.0        5045       0   \n",
       "3      1.0    160        7.0                0.0        4023       0   \n",
       "4      0.0     75       15.0                0.0        3103       0   \n",
       "\n",
       "   offerType  creatDate        v_0       v_1       v_2       v_3       v_4  \\\n",
       "0          0   20160329  49.593127  5.246568  1.001130 -4.122264  0.737532   \n",
       "1          0   20160404  42.395926 -3.253950 -1.753754  3.646605 -0.725597   \n",
       "2          0   20160308  45.841370  4.704178  0.155391 -1.118443 -0.229160   \n",
       "3          0   20160325  46.440649  4.319155  0.428897 -2.037916 -0.234757   \n",
       "4          0   20160309  42.184604 -3.166234 -1.572058  2.604143  0.387498   \n",
       "\n",
       "        v_5       v_6       v_7       v_8       v_9      v_10      v_11  \\\n",
       "0  0.264405  0.121800  0.070899  0.106558  0.078867 -7.050969 -0.854626   \n",
       "1  0.261745  0.000000  0.096733  0.013705  0.052383  3.679418 -0.729039   \n",
       "2  0.260216  0.112081  0.078082  0.062078  0.050540 -4.926690  1.001106   \n",
       "3  0.260466  0.106727  0.081146  0.075971  0.048268 -4.864637  0.505493   \n",
       "4  0.250999  0.000000  0.077806  0.028600  0.081709  3.616475 -0.673236   \n",
       "\n",
       "       v_12      v_13      v_14  \n",
       "0  4.800151  0.620011 -3.664654  \n",
       "1 -3.796107 -1.541230 -0.757055  \n",
       "2  0.826562  0.138226  0.754033  \n",
       "3  1.870379  0.366038  1.312775  \n",
       "4 -3.197685 -0.025678 -0.101290  "
      ]
     },
     "execution_count": 22,
     "metadata": {},
     "output_type": "execute_result"
    }
   ],
   "source": [
    "test_data.head()"
   ]
  },
  {
   "cell_type": "code",
   "execution_count": 32,
   "metadata": {},
   "outputs": [],
   "source": [
    "train_data = train_data.drop(['Unnamed: 0','SaleID', 'seller', 'offerType'],axis=1)"
   ]
  },
  {
   "cell_type": "code",
   "execution_count": 23,
   "metadata": {},
   "outputs": [],
   "source": [
    "test_data = test_data.drop(['Unnamed: 0','SaleID'],axis=1)"
   ]
  },
  {
   "cell_type": "code",
   "execution_count": 28,
   "metadata": {},
   "outputs": [],
   "source": [
    "def reduce_mem_usage(df):\n",
    "    \"\"\" iterate through all the columns of a dataframe and modify the data type\n",
    "    to reduce memory usage.\n",
    "    \"\"\"\n",
    "    start_mem = df.memory_usage().sum()\n",
    "    print('Memory usage of dataframe is {:.2f} MB'.format(start_mem))\n",
    "    for col in df.columns:\n",
    "        col_type = df[col].dtype\n",
    "        if col_type != object:\n",
    "            c_min = df[col].min()\n",
    "            c_max = df[col].max()\n",
    "            if str(col_type)[:3] == 'int':\n",
    "                if c_min > np.iinfo(np.int8).min and c_max < np.iinfo(np.int8).max:\n",
    "                    df[col] = df[col].astype(np.int8)\n",
    "                elif c_min > np.iinfo(np.int16).min and c_max < np.iinfo(np.int16).max:\n",
    "                    df[col] = df[col].astype(np.int16)\n",
    "                elif c_min > np.iinfo(np.int32).min and c_max < np.iinfo(np.int32).max:\n",
    "                    df[col] = df[col].astype(np.int32)\n",
    "                elif c_min > np.iinfo(np.int64).min and c_max < np.iinfo(np.int64).max:\n",
    "                    df[col] = df[col].astype(np.int64)\n",
    "            else:\n",
    "                if c_min > np.finfo(np.float16).min and c_max < np.finfo(np.float16).max:\n",
    "                        df[col] = df[col].astype(np.float16)\n",
    "                elif c_min > np.finfo(np.float32).min and c_max < np.finfo(np.float32).max:\n",
    "                        df[col] = df[col].astype(np.float32)\n",
    "                else:\n",
    "                    df[col] = df[col].astype(np.float64)\n",
    "        else:\n",
    "            df[col] = df[col].astype('category')\n",
    "    end_mem = df.memory_usage().sum()\n",
    "    print('Memory usage after optimization is: {:.2f} MB'.format(end_mem))\n",
    "    print('Decreased by {:.1f}%'.format(100 * (start_mem - end_mem) / start_mem))\n",
    "    return df"
   ]
  },
  {
   "cell_type": "code",
   "execution_count": 35,
   "metadata": {},
   "outputs": [
    {
     "name": "stdout",
     "output_type": "stream",
     "text": [
      "Memory usage of dataframe is 14236400.00 MB\n",
      "Memory usage after optimization is: 14236400.00 MB\n",
      "Decreased by 0.0%\n"
     ]
    }
   ],
   "source": [
    "sample_feature = reduce_mem_usage(train_data)"
   ]
  },
  {
   "cell_type": "code",
   "execution_count": 40,
   "metadata": {},
   "outputs": [],
   "source": [
    "continuous_feature_names = [x for x in sample_feature.columns if x not in ['name','regionCode','notRepairedDamage','price','brand','model','gearbox','fuelType', 'bodyType','regDate','creatDate']]"
   ]
  },
  {
   "cell_type": "code",
   "execution_count": 41,
   "metadata": {},
   "outputs": [
    {
     "data": {
      "text/plain": [
       "['power',\n",
       " 'kilometer',\n",
       " 'v_0',\n",
       " 'v_1',\n",
       " 'v_2',\n",
       " 'v_3',\n",
       " 'v_4',\n",
       " 'v_5',\n",
       " 'v_6',\n",
       " 'v_7',\n",
       " 'v_8',\n",
       " 'v_9',\n",
       " 'v_10',\n",
       " 'v_11',\n",
       " 'v_12',\n",
       " 'v_13',\n",
       " 'v_14',\n",
       " 'age',\n",
       " 'age_bin',\n",
       " 'price_brand_gp_median',\n",
       " 'price_brand_gp_mean',\n",
       " 'brand_gp_size',\n",
       " 'price_brand_gp_std',\n",
       " 'price_brand_gp_max',\n",
       " 'price_brand_gp_min',\n",
       " 'price_bodyType_gp_median',\n",
       " 'price_bodyType_gp_mean',\n",
       " 'bodyType_gp_size',\n",
       " 'price_bodyType_gp_std',\n",
       " 'price_bodyType_gp_max',\n",
       " 'price_bodyType_gp_min']"
      ]
     },
     "execution_count": 41,
     "metadata": {},
     "output_type": "execute_result"
    }
   ],
   "source": [
    "continuous_feature_names"
   ]
  },
  {
   "cell_type": "code",
   "execution_count": 43,
   "metadata": {},
   "outputs": [],
   "source": [
    "train_X = sample_feature[continuous_feature_names]\n",
    "train_y = sample_feature['price']"
   ]
  },
  {
   "cell_type": "markdown",
   "metadata": {},
   "source": [
    "### LR模型"
   ]
  },
  {
   "cell_type": "code",
   "execution_count": 44,
   "metadata": {},
   "outputs": [],
   "source": [
    "from sklearn.linear_model import LinearRegression"
   ]
  },
  {
   "cell_type": "code",
   "execution_count": 45,
   "metadata": {},
   "outputs": [],
   "source": [
    "model = LinearRegression(normalize=True)"
   ]
  },
  {
   "cell_type": "code",
   "execution_count": 46,
   "metadata": {},
   "outputs": [],
   "source": [
    "model = model.fit(train_X, train_y)"
   ]
  },
  {
   "cell_type": "code",
   "execution_count": 47,
   "metadata": {},
   "outputs": [
    {
     "data": {
      "text/plain": [
       "[('v_6', 2942958.927134991),\n",
       " ('v_5', 1389897.1932467131),\n",
       " ('v_8', 817132.3791761297),\n",
       " ('v_9', 485434.348126616),\n",
       " ('v_7', 250765.87262199118),\n",
       " ('v_2', 8707.845778529685),\n",
       " ('v_10', 4802.319108488013),\n",
       " ('v_11', 2965.8898168288124),\n",
       " ('v_14', 949.2549534436414),\n",
       " ('age', 54.48682311829273),\n",
       " ('price_bodyType_gp_min', 43.74585355658161),\n",
       " ('power', 37.39423285555245),\n",
       " ('price_bodyType_gp_mean', 3.028275394960361),\n",
       " ('price_brand_gp_mean', 1.2006753209455656),\n",
       " ('brand_gp_size', 0.037804986770974054),\n",
       " ('price_bodyType_gp_max', 0.033598613733113826),\n",
       " ('price_brand_gp_max', -0.004765739734614154),\n",
       " ('bodyType_gp_size', -0.030500621848214973),\n",
       " ('price_brand_gp_std', -0.4697148858312588),\n",
       " ('price_brand_gp_median', -0.6288788660538177),\n",
       " ('price_bodyType_gp_std', -1.6388273600117416),\n",
       " ('price_bodyType_gp_median', -2.1774951529006286),\n",
       " ('price_brand_gp_min', -2.236008038223434),\n",
       " ('v_0', -49.73778675893142),\n",
       " ('age_bin', -161.59511135696306),\n",
       " ('kilometer', -338.47093608098817),\n",
       " ('v_4', -1432.375965685889),\n",
       " ('v_13', -4737.254548692544),\n",
       " ('v_3', -18544.690062204165),\n",
       " ('v_12', -24265.116719795406),\n",
       " ('v_1', -37930.46438050519)]"
      ]
     },
     "execution_count": 47,
     "metadata": {},
     "output_type": "execute_result"
    }
   ],
   "source": [
    "'intercept:'+ str(model.intercept_)\n",
    "sorted(dict(zip(continuous_feature_names, model.coef_)).items(), key=lambda x:x[1], reverse=True)"
   ]
  },
  {
   "cell_type": "code",
   "execution_count": 49,
   "metadata": {},
   "outputs": [
    {
     "name": "stdout",
     "output_type": "stream",
     "text": [
      "The predicted price is obvious different from true price\n"
     ]
    },
    {
     "data": {
      "image/png": "[encoded data removed]",
      "text/plain": [
       "<matplotlib.figure.Figure at 0xcf5b588>"
      ]
     },
     "metadata": {},
     "output_type": "display_data"
    }
   ],
   "source": [
    "from matplotlib import pyplot as plt\n",
    "subsample_index = np.random.randint(low=0, high=len(train_y), size=50)\n",
    "plt.scatter(train_X['v_9'][subsample_index], train_y[subsample_index], color='black')\n",
    "plt.scatter(train_X['v_9'][subsample_index], model.predict(train_X.loc[subsample_index]), color='blue')\n",
    "plt.xlabel('v_9')\n",
    "plt.ylabel('price')\n",
    "plt.legend(['True Price','Predicted Price'],loc='upper right')\n",
    "print('The predicted price is obvious different from true price')\n",
    "plt.show()"
   ]
  },
  {
   "cell_type": "code",
   "execution_count": 50,
   "metadata": {},
   "outputs": [],
   "source": [
    "##对y进行变换\n",
    "train_y_ln = np.log(train_y + 1)"
   ]
  },
  {
   "cell_type": "code",
   "execution_count": 51,
   "metadata": {},
   "outputs": [
    {
     "name": "stdout",
     "output_type": "stream",
     "text": [
      "The transformed price seems like normal distribution\n"
     ]
    },
    {
     "data": {
      "text/plain": [
       "<matplotlib.axes._subplots.AxesSubplot at 0x13524fd0>"
      ]
     },
     "execution_count": 51,
     "metadata": {},
     "output_type": "execute_result"
    },
    {
     "data": {
      "image/png": "[encoded data removed]",
      "text/plain": [
       "<matplotlib.figure.Figure at 0x12f73dd8>"
      ]
     },
     "metadata": {},
     "output_type": "display_data"
    }
   ],
   "source": [
    "##画图查看\n",
    "import seaborn as sns\n",
    "print('The transformed price seems like normal distribution')\n",
    "plt.figure(figsize=(15,5))\n",
    "plt.subplot(1,2,1)\n",
    "sns.distplot(train_y_ln)\n",
    "plt.subplot(1,2,2)\n",
    "sns.distplot(train_y_ln[train_y_ln < np.quantile(train_y_ln, 0.9)])"
   ]
  },
  {
   "cell_type": "code",
   "execution_count": 52,
   "metadata": {},
   "outputs": [
    {
     "name": "stdout",
     "output_type": "stream",
     "text": [
      "intercept:30.52794706579824\n"
     ]
    },
    {
     "data": {
      "text/plain": [
       "[('v_1', 1.9559547569228914),\n",
       " ('v_2', 1.408390427174884),\n",
       " ('v_13', 0.3190099250461387),\n",
       " ('v_14', 0.05721157966773609),\n",
       " ('age', 0.006997201247498243),\n",
       " ('price_bodyType_gp_min', 0.0018727550512719706),\n",
       " ('power', 0.0010294282658764222),\n",
       " ('price_brand_gp_min', 6.486614834982483e-05),\n",
       " ('price_bodyType_gp_median', 3.445502541548861e-05),\n",
       " ('price_bodyType_gp_std', 3.0126870004289797e-05),\n",
       " ('price_brand_gp_mean', 1.131899905727412e-05),\n",
       " ('brand_gp_size', 1.5048096686158051e-06),\n",
       " ('price_bodyType_gp_max', 9.017234024333892e-07),\n",
       " ('price_brand_gp_max', 7.925860162308057e-07),\n",
       " ('bodyType_gp_size', -2.2857739948005054e-07),\n",
       " ('price_brand_gp_std', -4.284665134956804e-06),\n",
       " ('price_brand_gp_median', -1.117585542485213e-05),\n",
       " ('price_bodyType_gp_mean', -6.197633343157497e-05),\n",
       " ('age_bin', -0.0007841511910351297),\n",
       " ('kilometer', -0.008087484409603565),\n",
       " ('v_0', -0.03070337626577638),\n",
       " ('v_12', -0.2008532164771438),\n",
       " ('v_3', -0.2540469788809502),\n",
       " ('v_4', -0.3620665859561242),\n",
       " ('v_11', -0.8676010715855084),\n",
       " ('v_10', -1.2243616401426405),\n",
       " ('v_9', -1.8592826911228564),\n",
       " ('v_7', -6.297387613873124),\n",
       " ('v_5', -34.38479874570253),\n",
       " ('v_8', -47.21669710101363),\n",
       " ('v_6', -204.62227643527672)]"
      ]
     },
     "execution_count": 52,
     "metadata": {},
     "output_type": "execute_result"
    }
   ],
   "source": [
    "##对y转换后建模\n",
    "model = model.fit(train_X, train_y_ln)\n",
    "print('intercept:'+ str(model.intercept_))\n",
    "sorted(dict(zip(continuous_feature_names, model.coef_)).items(), key=lambda x:x[1], reverse=True)"
   ]
  },
  {
   "cell_type": "code",
   "execution_count": 55,
   "metadata": {},
   "outputs": [
    {
     "name": "stdout",
     "output_type": "stream",
     "text": [
      "The predicted price seems normal after np.log transforming\n"
     ]
    },
    {
     "data": {
      "image/png": "[encoded data removed]",
      "text/plain": [
       "<matplotlib.figure.Figure at 0x12f73ba8>"
      ]
     },
     "metadata": {},
     "output_type": "display_data"
    }
   ],
   "source": [
    "##再次可视化\n",
    "plt.scatter(train_X['v_9'][subsample_index], train_y[subsample_index], color='black')\n",
    "plt.scatter(train_X['v_9'][subsample_index], np.exp(model.predict(train_X.loc[subsample_index])), color='blue')\n",
    "plt.xlabel('v_9')\n",
    "plt.ylabel('price')\n",
    "plt.legend(['True Price','Predicted Price'],loc='upper right')\n",
    "print('The predicted price seems normal after np.log transforming')\n",
    "plt.show()"
   ]
  },
  {
   "cell_type": "markdown",
   "metadata": {},
   "source": [
    "### 五折交叉"
   ]
  },
  {
   "cell_type": "code",
   "execution_count": 56,
   "metadata": {},
   "outputs": [],
   "source": [
    "from sklearn.model_selection import cross_val_score\n",
    "from sklearn.metrics import mean_absolute_error, make_scorer"
   ]
  },
  {
   "cell_type": "code",
   "execution_count": 57,
   "metadata": {},
   "outputs": [],
   "source": [
    "def log_transfer(func):\n",
    "    def wrapper(y, yhat):\n",
    "        result = func(np.log(y), np.nan_to_num(np.log(yhat)))\n",
    "        return result\n",
    "    return wrapper"
   ]
  },
  {
   "cell_type": "code",
   "execution_count": 59,
   "metadata": {},
   "outputs": [
    {
     "name": "stdout",
     "output_type": "stream",
     "text": [
      "AVG: 0.7366637625321608\n"
     ]
    },
    {
     "name": "stderr",
     "output_type": "stream",
     "text": [
      "[Parallel(n_jobs=1)]: Done   5 out of   5 | elapsed:    1.3s finished\n"
     ]
    }
   ],
   "source": [
    "##对未处理的五折\n",
    "scores = cross_val_score(model, X=train_X, y=train_y, verbose=1, cv = 5)\n",
    "print('AVG:', np.mean(scores))"
   ]
  },
  {
   "cell_type": "code",
   "execution_count": 60,
   "metadata": {},
   "outputs": [
    {
     "name": "stdout",
     "output_type": "stream",
     "text": [
      "AVG: 0.935222568723787\n"
     ]
    },
    {
     "name": "stderr",
     "output_type": "stream",
     "text": [
      "[Parallel(n_jobs=1)]: Done   5 out of   5 | elapsed:    1.2s finished\n"
     ]
    }
   ],
   "source": [
    "scores = cross_val_score(model, X=train_X, y=train_y_ln, verbose=1, cv = 5)\n",
    "print('AVG:', np.mean(scores))"
   ]
  },
  {
   "cell_type": "code",
   "execution_count": 61,
   "metadata": {},
   "outputs": [
    {
     "data": {
      "text/html": [
       "<div>\n",
       "<style scoped>\n",
       "    .dataframe tbody tr th:only-of-type {\n",
       "        vertical-align: middle;\n",
       "    }\n",
       "\n",
       "    .dataframe tbody tr th {\n",
       "        vertical-align: top;\n",
       "    }\n",
       "\n",
       "    .dataframe thead th {\n",
       "        text-align: right;\n",
       "    }\n",
       "</style>\n",
       "<table border=\"1\" class=\"dataframe\">\n",
       "  <thead>\n",
       "    <tr style=\"text-align: right;\">\n",
       "      <th></th>\n",
       "      <th>cv1</th>\n",
       "      <th>cv2</th>\n",
       "      <th>cv3</th>\n",
       "      <th>cv4</th>\n",
       "      <th>cv5</th>\n",
       "    </tr>\n",
       "  </thead>\n",
       "  <tbody>\n",
       "    <tr>\n",
       "      <th>MAE</th>\n",
       "      <td>0.934923</td>\n",
       "      <td>0.935149</td>\n",
       "      <td>0.935507</td>\n",
       "      <td>0.936995</td>\n",
       "      <td>0.93354</td>\n",
       "    </tr>\n",
       "  </tbody>\n",
       "</table>\n",
       "</div>"
      ],
      "text/plain": [
       "          cv1       cv2       cv3       cv4      cv5\n",
       "MAE  0.934923  0.935149  0.935507  0.936995  0.93354"
      ]
     },
     "execution_count": 61,
     "metadata": {},
     "output_type": "execute_result"
    }
   ],
   "source": [
    "scores = pd.DataFrame(scores.reshape(1,-1))\n",
    "scores.columns = ['cv' + str(x) for x in range(1, 6)]\n",
    "scores.index = ['MAE']\n",
    "scores"
   ]
  },
  {
   "cell_type": "markdown",
   "metadata": {},
   "source": [
    "### 多种模型对比"
   ]
  },
  {
   "cell_type": "code",
   "execution_count": 62,
   "metadata": {},
   "outputs": [],
   "source": [
    "train = sample_feature[continuous_feature_names + ['price']].dropna()\n",
    "train_X = train[continuous_feature_names]\n",
    "train_y = train['price']\n",
    "train_y_ln = np.log(train_y + 1)"
   ]
  },
  {
   "cell_type": "code",
   "execution_count": 63,
   "metadata": {},
   "outputs": [],
   "source": [
    "##嵌入式特征选择在学习器训练过程中自动地进行特征选择。嵌入式选择最常用的是L1正则化与L2正则化\n",
    "from sklearn.linear_model import LinearRegression\n",
    "from sklearn.linear_model import Ridge\n",
    "from sklearn.linear_model import Lasso"
   ]
  },
  {
   "cell_type": "code",
   "execution_count": 64,
   "metadata": {},
   "outputs": [],
   "source": [
    "models = [LinearRegression(),\n",
    "Ridge(),\n",
    "Lasso()]"
   ]
  },
  {
   "cell_type": "code",
   "execution_count": 66,
   "metadata": {},
   "outputs": [
    {
     "name": "stdout",
     "output_type": "stream",
     "text": [
      "LinearRegression is finished\n",
      "Ridge is finished\n",
      "Lasso is finished\n"
     ]
    }
   ],
   "source": [
    "result = dict()\n",
    "for model in models:\n",
    "    model_name = str(model).split('(')[0]\n",
    "    scores = cross_val_score(model, X=train_X, y=train_y_ln, verbose=0, cv = 5)\n",
    "    result[model_name] = scores\n",
    "    print(model_name + ' is finished')"
   ]
  },
  {
   "cell_type": "code",
   "execution_count": 67,
   "metadata": {},
   "outputs": [
    {
     "data": {
      "text/html": [
       "<div>\n",
       "<style scoped>\n",
       "    .dataframe tbody tr th:only-of-type {\n",
       "        vertical-align: middle;\n",
       "    }\n",
       "\n",
       "    .dataframe tbody tr th {\n",
       "        vertical-align: top;\n",
       "    }\n",
       "\n",
       "    .dataframe thead th {\n",
       "        text-align: right;\n",
       "    }\n",
       "</style>\n",
       "<table border=\"1\" class=\"dataframe\">\n",
       "  <thead>\n",
       "    <tr style=\"text-align: right;\">\n",
       "      <th></th>\n",
       "      <th>LinearRegression</th>\n",
       "      <th>Ridge</th>\n",
       "      <th>Lasso</th>\n",
       "    </tr>\n",
       "  </thead>\n",
       "  <tbody>\n",
       "    <tr>\n",
       "      <th>cv1</th>\n",
       "      <td>0.934923</td>\n",
       "      <td>0.933565</td>\n",
       "      <td>0.716851</td>\n",
       "    </tr>\n",
       "    <tr>\n",
       "      <th>cv2</th>\n",
       "      <td>0.935149</td>\n",
       "      <td>0.933483</td>\n",
       "      <td>0.708802</td>\n",
       "    </tr>\n",
       "    <tr>\n",
       "      <th>cv3</th>\n",
       "      <td>0.935507</td>\n",
       "      <td>0.933966</td>\n",
       "      <td>0.715487</td>\n",
       "    </tr>\n",
       "    <tr>\n",
       "      <th>cv4</th>\n",
       "      <td>0.936995</td>\n",
       "      <td>0.935306</td>\n",
       "      <td>0.723309</td>\n",
       "    </tr>\n",
       "    <tr>\n",
       "      <th>cv5</th>\n",
       "      <td>0.933540</td>\n",
       "      <td>0.931767</td>\n",
       "      <td>0.709205</td>\n",
       "    </tr>\n",
       "  </tbody>\n",
       "</table>\n",
       "</div>"
      ],
      "text/plain": [
       "     LinearRegression     Ridge     Lasso\n",
       "cv1          0.934923  0.933565  0.716851\n",
       "cv2          0.935149  0.933483  0.708802\n",
       "cv3          0.935507  0.933966  0.715487\n",
       "cv4          0.936995  0.935306  0.723309\n",
       "cv5          0.933540  0.931767  0.709205"
      ]
     },
     "execution_count": 67,
     "metadata": {},
     "output_type": "execute_result"
    }
   ],
   "source": [
    "result = pd.DataFrame(result)\n",
    "result.index = ['cv' + str(x) for x in range(1, 6)]\n",
    "result"
   ]
  },
  {
   "cell_type": "code",
   "execution_count": 68,
   "metadata": {},
   "outputs": [
    {
     "name": "stdout",
     "output_type": "stream",
     "text": [
      "intercept:30.527947060501216\n"
     ]
    },
    {
     "data": {
      "text/plain": [
       "<matplotlib.axes._subplots.AxesSubplot at 0x1bf001d0>"
      ]
     },
     "execution_count": 68,
     "metadata": {},
     "output_type": "execute_result"
    },
    {
     "data": {
      "image/png": "[encoded data removed]",
      "text/plain": [
       "<matplotlib.figure.Figure at 0x1bef36a0>"
      ]
     },
     "metadata": {},
     "output_type": "display_data"
    }
   ],
   "source": [
    "model = LinearRegression().fit(train_X, train_y_ln)\n",
    "print('intercept:'+ str(model.intercept_))\n",
    "sns.barplot(abs(model.coef_), continuous_feature_names)"
   ]
  },
  {
   "cell_type": "code",
   "execution_count": 69,
   "metadata": {},
   "outputs": [
    {
     "name": "stdout",
     "output_type": "stream",
     "text": [
      "intercept:8.604896111116814\n"
     ]
    },
    {
     "data": {
      "text/plain": [
       "<matplotlib.axes._subplots.AxesSubplot at 0x12ffa550>"
      ]
     },
     "execution_count": 69,
     "metadata": {},
     "output_type": "execute_result"
    },
    {
     "data": {
      "image/png": "[encoded data removed]",
      "text/plain": [
       "<matplotlib.figure.Figure at 0x12fda400>"
      ]
     },
     "metadata": {},
     "output_type": "display_data"
    }
   ],
   "source": [
    "model = Ridge().fit(train_X, train_y_ln)\n",
    "print('intercept:'+ str(model.intercept_))\n",
    "sns.barplot(abs(model.coef_), continuous_feature_names)"
   ]
  },
  {
   "cell_type": "code",
   "execution_count": 70,
   "metadata": {},
   "outputs": [
    {
     "name": "stdout",
     "output_type": "stream",
     "text": [
      "intercept:8.125650299596265\n"
     ]
    },
    {
     "data": {
      "text/plain": [
       "<matplotlib.axes._subplots.AxesSubplot at 0x2097bcc0>"
      ]
     },
     "execution_count": 70,
     "metadata": {},
     "output_type": "execute_result"
    },
    {
     "data": {
      "image/png": "[encoded data removed]",
      "text/plain": [
       "<matplotlib.figure.Figure at 0x12fda940>"
      ]
     },
     "metadata": {},
     "output_type": "display_data"
    }
   ],
   "source": [
    "model = Lasso().fit(train_X, train_y_ln)\n",
    "print('intercept:'+ str(model.intercept_))\n",
    "sns.barplot(abs(model.coef_), continuous_feature_names)"
   ]
  },
  {
   "cell_type": "code",
   "execution_count": null,
   "metadata": {},
   "outputs": [],
   "source": []
  }
 ],
 "metadata": {
  "kernelspec": {
   "display_name": "Python 3",
   "language": "python",
   "name": "python3"
  },
  "language_info": {
   "codemirror_mode": {
    "name": "ipython",
    "version": 3
   },
   "file_extension": ".py",
   "mimetype": "text/x-python",
   "name": "python",
   "nbconvert_exporter": "python",
   "pygments_lexer": "ipython3",
   "version": "3.6.4"
  }
 },
 "nbformat": 4,
 "nbformat_minor": 2
}
